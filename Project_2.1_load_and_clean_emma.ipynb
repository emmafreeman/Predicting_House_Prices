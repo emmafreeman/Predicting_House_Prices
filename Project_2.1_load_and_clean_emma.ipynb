{
 "cells": [
  {
   "cell_type": "markdown",
   "metadata": {
    "deletable": true,
    "editable": true
   },
   "source": [
    "# House Prices: Advanced Regression Techniques, Part 1\n",
    "## Load, explore, and clean the data"
   ]
  },
  {
   "cell_type": "code",
   "execution_count": 1,
   "metadata": {
    "collapsed": false,
    "deletable": true,
    "editable": true
   },
   "outputs": [],
   "source": [
    "import pandas as pd\n",
    "import numpy as np\n",
    "import matplotlib as mpl\n",
    "import matplotlib.pyplot as plt\n",
    "%matplotlib inline\n",
    "import seaborn as sns\n",
    "\n",
    "from IPython.display import display\n",
    "\n",
    "%matplotlib inline \n",
    "pd.options.display.precision = 4\n",
    "mpl.rcParams['font.family'] = 'Lato'\n",
    "mpl.rcParams['font.weight'] = 700\n",
    "sns.set(font='Lato', font_scale=1)\n",
    "sns.set()\n",
    "np.random.seed(42)"
   ]
  },
  {
   "cell_type": "markdown",
   "metadata": {
    "deletable": true,
    "editable": true
   },
   "source": [
    "https://www.kaggle.com/c/house-prices-advanced-regression-techniques/data"
   ]
  },
  {
   "cell_type": "markdown",
   "metadata": {
    "deletable": true,
    "editable": true
   },
   "source": [
    "Ask a home buyer to describe their dream house, and they probably won't begin with the height of the basement ceiling or the proximity to an east-west railroad. But this playground competition's dataset proves that much more influences price negotiations than the number of bedrooms or a white-picket fence.\n",
    "\n",
    "With 79 explanatory variables describing (almost) every aspect of residential homes in Ames, Iowa, this competition challenges you to predict the final price of each home."
   ]
  },
  {
   "cell_type": "markdown",
   "metadata": {
    "deletable": true,
    "editable": true
   },
   "source": [
    "## Load the Data"
   ]
  },
  {
   "cell_type": "markdown",
   "metadata": {
    "deletable": true,
    "editable": true
   },
   "source": [
    "The data set is split across three tables:\n",
    "\n",
    "- `listing_training`\n",
    "- `zoning`\n",
    "- `sale`\n",
    "\n",
    "Load the data from these tables:\n",
    "1. connect to the database using `psycopg2`\n",
    "1. use a `psycopg2.extras.RealDictCursor` so that you get the columns names returned with your query\n",
    "1. pull the data using a `SELECT` `JOIN` statement \n",
    "1. you should be able to join all tables using `id`\n",
    "1. load the result into a `pandas.DataFrame`\n",
    "1. use `id` as the index for your DataFrame"
   ]
  },
  {
   "cell_type": "code",
   "execution_count": 2,
   "metadata": {
    "collapsed": false,
    "deletable": true,
    "editable": true
   },
   "outputs": [],
   "source": [
    "import psycopg2 as pg2\n",
    "import psycopg2.extras as pgex\n",
    "\n",
    "conn = pg2.connect(host=\"michaelgfrantz.com\", user=\"postgres\", password=\"dsism4\")\n",
    "curs = conn.cursor(cursor_factory=pgex.RealDictCursor)\n",
    "\n",
    "query =  \"\"\"\n",
    "SELECT * FROM listing_training \n",
    "JOIN zoning on listing_training.id = zoning.id\n",
    "JOIN sale on zoning.id = sale.id;\n",
    "\"\"\"\n",
    "\n",
    "curs.execute(query)\n",
    "results = curs.fetchall()\n",
    "conn.close()"
   ]
  },
  {
   "cell_type": "code",
   "execution_count": 3,
   "metadata": {
    "collapsed": false,
    "deletable": true,
    "editable": true
   },
   "outputs": [],
   "source": [
    "iowa_df = pd.DataFrame(results)"
   ]
  },
  {
   "cell_type": "code",
   "execution_count": 4,
   "metadata": {
    "collapsed": true,
    "deletable": true,
    "editable": true
   },
   "outputs": [],
   "source": [
    "iowa_df = iowa_df.set_index('id')"
   ]
  },
  {
   "cell_type": "code",
   "execution_count": 5,
   "metadata": {
    "collapsed": false,
    "deletable": true,
    "editable": true
   },
   "outputs": [
    {
     "data": {
      "text/html": [
       "<div>\n",
       "<table border=\"1\" class=\"dataframe\">\n",
       "  <thead>\n",
       "    <tr style=\"text-align: right;\">\n",
       "      <th></th>\n",
       "      <th>alley</th>\n",
       "      <th>bedroomabvgr</th>\n",
       "      <th>bldgtype</th>\n",
       "      <th>bsmtcond</th>\n",
       "      <th>bsmtexposure</th>\n",
       "      <th>bsmtfinsf1</th>\n",
       "      <th>bsmtfinsf2</th>\n",
       "      <th>bsmtfintype1</th>\n",
       "      <th>bsmtfintype2</th>\n",
       "      <th>bsmtfullbath</th>\n",
       "      <th>...</th>\n",
       "      <th>secondflrsf</th>\n",
       "      <th>street</th>\n",
       "      <th>threessnporch</th>\n",
       "      <th>totalbsmtsf</th>\n",
       "      <th>totrmsabvgrd</th>\n",
       "      <th>utilities</th>\n",
       "      <th>wooddecksf</th>\n",
       "      <th>yearbuilt</th>\n",
       "      <th>yearremodadd</th>\n",
       "      <th>yrsold</th>\n",
       "    </tr>\n",
       "    <tr>\n",
       "      <th>id</th>\n",
       "      <th></th>\n",
       "      <th></th>\n",
       "      <th></th>\n",
       "      <th></th>\n",
       "      <th></th>\n",
       "      <th></th>\n",
       "      <th></th>\n",
       "      <th></th>\n",
       "      <th></th>\n",
       "      <th></th>\n",
       "      <th></th>\n",
       "      <th></th>\n",
       "      <th></th>\n",
       "      <th></th>\n",
       "      <th></th>\n",
       "      <th></th>\n",
       "      <th></th>\n",
       "      <th></th>\n",
       "      <th></th>\n",
       "      <th></th>\n",
       "      <th></th>\n",
       "    </tr>\n",
       "  </thead>\n",
       "  <tbody>\n",
       "    <tr>\n",
       "      <th>1</th>\n",
       "      <td>None</td>\n",
       "      <td>3</td>\n",
       "      <td>1Fam</td>\n",
       "      <td>TA</td>\n",
       "      <td>No</td>\n",
       "      <td>706</td>\n",
       "      <td>0</td>\n",
       "      <td>GLQ</td>\n",
       "      <td>Unf</td>\n",
       "      <td>1</td>\n",
       "      <td>...</td>\n",
       "      <td>854</td>\n",
       "      <td>Pave</td>\n",
       "      <td>0</td>\n",
       "      <td>856</td>\n",
       "      <td>8</td>\n",
       "      <td>AllPub</td>\n",
       "      <td>0</td>\n",
       "      <td>2003</td>\n",
       "      <td>2003</td>\n",
       "      <td>2008</td>\n",
       "    </tr>\n",
       "    <tr>\n",
       "      <th>4</th>\n",
       "      <td>None</td>\n",
       "      <td>3</td>\n",
       "      <td>1Fam</td>\n",
       "      <td>Gd</td>\n",
       "      <td>No</td>\n",
       "      <td>216</td>\n",
       "      <td>0</td>\n",
       "      <td>ALQ</td>\n",
       "      <td>Unf</td>\n",
       "      <td>1</td>\n",
       "      <td>...</td>\n",
       "      <td>756</td>\n",
       "      <td>Pave</td>\n",
       "      <td>0</td>\n",
       "      <td>756</td>\n",
       "      <td>7</td>\n",
       "      <td>AllPub</td>\n",
       "      <td>0</td>\n",
       "      <td>1915</td>\n",
       "      <td>1970</td>\n",
       "      <td>2006</td>\n",
       "    </tr>\n",
       "    <tr>\n",
       "      <th>5</th>\n",
       "      <td>None</td>\n",
       "      <td>4</td>\n",
       "      <td>1Fam</td>\n",
       "      <td>TA</td>\n",
       "      <td>Av</td>\n",
       "      <td>655</td>\n",
       "      <td>0</td>\n",
       "      <td>GLQ</td>\n",
       "      <td>Unf</td>\n",
       "      <td>1</td>\n",
       "      <td>...</td>\n",
       "      <td>1053</td>\n",
       "      <td>Pave</td>\n",
       "      <td>0</td>\n",
       "      <td>1145</td>\n",
       "      <td>9</td>\n",
       "      <td>AllPub</td>\n",
       "      <td>192</td>\n",
       "      <td>2000</td>\n",
       "      <td>2000</td>\n",
       "      <td>2008</td>\n",
       "    </tr>\n",
       "    <tr>\n",
       "      <th>7</th>\n",
       "      <td>None</td>\n",
       "      <td>3</td>\n",
       "      <td>1Fam</td>\n",
       "      <td>TA</td>\n",
       "      <td>Av</td>\n",
       "      <td>1369</td>\n",
       "      <td>0</td>\n",
       "      <td>GLQ</td>\n",
       "      <td>Unf</td>\n",
       "      <td>1</td>\n",
       "      <td>...</td>\n",
       "      <td>0</td>\n",
       "      <td>Pave</td>\n",
       "      <td>0</td>\n",
       "      <td>1686</td>\n",
       "      <td>7</td>\n",
       "      <td>AllPub</td>\n",
       "      <td>255</td>\n",
       "      <td>2004</td>\n",
       "      <td>2005</td>\n",
       "      <td>2007</td>\n",
       "    </tr>\n",
       "    <tr>\n",
       "      <th>8</th>\n",
       "      <td>None</td>\n",
       "      <td>3</td>\n",
       "      <td>1Fam</td>\n",
       "      <td>TA</td>\n",
       "      <td>Mn</td>\n",
       "      <td>859</td>\n",
       "      <td>32</td>\n",
       "      <td>ALQ</td>\n",
       "      <td>BLQ</td>\n",
       "      <td>1</td>\n",
       "      <td>...</td>\n",
       "      <td>983</td>\n",
       "      <td>Pave</td>\n",
       "      <td>0</td>\n",
       "      <td>1107</td>\n",
       "      <td>7</td>\n",
       "      <td>AllPub</td>\n",
       "      <td>235</td>\n",
       "      <td>1973</td>\n",
       "      <td>1973</td>\n",
       "      <td>2009</td>\n",
       "    </tr>\n",
       "  </tbody>\n",
       "</table>\n",
       "<p>5 rows × 80 columns</p>\n",
       "</div>"
      ],
      "text/plain": [
       "   alley  bedroomabvgr bldgtype bsmtcond bsmtexposure  bsmtfinsf1  bsmtfinsf2  \\\n",
       "id                                                                              \n",
       "1   None             3     1Fam       TA           No         706           0   \n",
       "4   None             3     1Fam       Gd           No         216           0   \n",
       "5   None             4     1Fam       TA           Av         655           0   \n",
       "7   None             3     1Fam       TA           Av        1369           0   \n",
       "8   None             3     1Fam       TA           Mn         859          32   \n",
       "\n",
       "   bsmtfintype1 bsmtfintype2  bsmtfullbath  ...    secondflrsf street  \\\n",
       "id                                          ...                         \n",
       "1           GLQ          Unf             1  ...            854   Pave   \n",
       "4           ALQ          Unf             1  ...            756   Pave   \n",
       "5           GLQ          Unf             1  ...           1053   Pave   \n",
       "7           GLQ          Unf             1  ...              0   Pave   \n",
       "8           ALQ          BLQ             1  ...            983   Pave   \n",
       "\n",
       "    threessnporch totalbsmtsf totrmsabvgrd utilities wooddecksf  yearbuilt  \\\n",
       "id                                                                           \n",
       "1               0         856            8    AllPub          0       2003   \n",
       "4               0         756            7    AllPub          0       1915   \n",
       "5               0        1145            9    AllPub        192       2000   \n",
       "7               0        1686            7    AllPub        255       2004   \n",
       "8               0        1107            7    AllPub        235       1973   \n",
       "\n",
       "   yearremodadd yrsold  \n",
       "id                      \n",
       "1          2003   2008  \n",
       "4          1970   2006  \n",
       "5          2000   2008  \n",
       "7          2005   2007  \n",
       "8          1973   2009  \n",
       "\n",
       "[5 rows x 80 columns]"
      ]
     },
     "execution_count": 5,
     "metadata": {},
     "output_type": "execute_result"
    }
   ],
   "source": [
    "iowa_df.head()"
   ]
  },
  {
   "cell_type": "markdown",
   "metadata": {
    "deletable": true,
    "editable": true
   },
   "source": [
    "### What are the names of the columns?"
   ]
  },
  {
   "cell_type": "code",
   "execution_count": 6,
   "metadata": {
    "collapsed": false,
    "deletable": true,
    "editable": true
   },
   "outputs": [
    {
     "data": {
      "text/plain": [
       "Index(['alley', 'bedroomabvgr', 'bldgtype', 'bsmtcond', 'bsmtexposure',\n",
       "       'bsmtfinsf1', 'bsmtfinsf2', 'bsmtfintype1', 'bsmtfintype2',\n",
       "       'bsmtfullbath', 'bsmthalfbath', 'bsmtqual', 'bsmtunfsf', 'centralair',\n",
       "       'condition1', 'condition2', 'electrical', 'enclosedporch', 'extercond',\n",
       "       'exterior1st', 'exterior2nd', 'exterqual', 'fence', 'fireplacequ',\n",
       "       'fireplaces', 'firstflrsf', 'foundation', 'fullbath', 'functional',\n",
       "       'garagearea', 'garagecars', 'garagecond', 'garagefinish', 'garagequal',\n",
       "       'garagetype', 'garageyrblt', 'grlivarea', 'halfbath', 'heating',\n",
       "       'heatingqc', 'housestyle', 'kitchenabvgr', 'kitchenqual', 'landcontour',\n",
       "       'landslope', 'lotarea', 'lotconfig', 'lotfrontage', 'lotshape',\n",
       "       'lowqualfinsf', 'masvnrarea', 'masvnrtype', 'miscfeature', 'miscval',\n",
       "       'mosold', 'mssubclass', 'mszoning', 'neighborhood', 'openporchsf',\n",
       "       'overallcond', 'overallqual', 'paveddrive', 'poolarea', 'poolqc',\n",
       "       'roofmatl', 'roofstyle', 'salecondition', 'saleprice', 'saletype',\n",
       "       'screenporch', 'secondflrsf', 'street', 'threessnporch', 'totalbsmtsf',\n",
       "       'totrmsabvgrd', 'utilities', 'wooddecksf', 'yearbuilt', 'yearremodadd',\n",
       "       'yrsold'],\n",
       "      dtype='object')"
      ]
     },
     "execution_count": 6,
     "metadata": {},
     "output_type": "execute_result"
    }
   ],
   "source": [
    "iowa_df.columns"
   ]
  },
  {
   "cell_type": "markdown",
   "metadata": {
    "deletable": true,
    "editable": true
   },
   "source": [
    "### Find all the columns with over 500 null values\n",
    "\n",
    "Use Python to find and drop these columns."
   ]
  },
  {
   "cell_type": "code",
   "execution_count": 7,
   "metadata": {
    "collapsed": false,
    "deletable": true,
    "editable": true
   },
   "outputs": [
    {
     "data": {
      "text/plain": [
       "True"
      ]
     },
     "execution_count": 7,
     "metadata": {},
     "output_type": "execute_result"
    }
   ],
   "source": [
    "any(iowa_df.isnull().sum() > 500)"
   ]
  },
  {
   "cell_type": "code",
   "execution_count": 8,
   "metadata": {
    "collapsed": false,
    "deletable": true,
    "editable": true
   },
   "outputs": [
    {
     "data": {
      "text/html": [
       "<div>\n",
       "<table border=\"1\" class=\"dataframe\">\n",
       "  <thead>\n",
       "    <tr style=\"text-align: right;\">\n",
       "      <th></th>\n",
       "      <th>bedroomabvgr</th>\n",
       "      <th>bldgtype</th>\n",
       "      <th>bsmtcond</th>\n",
       "      <th>bsmtexposure</th>\n",
       "      <th>bsmtfinsf1</th>\n",
       "      <th>bsmtfinsf2</th>\n",
       "      <th>bsmtfintype1</th>\n",
       "      <th>bsmtfintype2</th>\n",
       "      <th>bsmtfullbath</th>\n",
       "      <th>bsmthalfbath</th>\n",
       "      <th>...</th>\n",
       "      <th>secondflrsf</th>\n",
       "      <th>street</th>\n",
       "      <th>threessnporch</th>\n",
       "      <th>totalbsmtsf</th>\n",
       "      <th>totrmsabvgrd</th>\n",
       "      <th>utilities</th>\n",
       "      <th>wooddecksf</th>\n",
       "      <th>yearbuilt</th>\n",
       "      <th>yearremodadd</th>\n",
       "      <th>yrsold</th>\n",
       "    </tr>\n",
       "    <tr>\n",
       "      <th>id</th>\n",
       "      <th></th>\n",
       "      <th></th>\n",
       "      <th></th>\n",
       "      <th></th>\n",
       "      <th></th>\n",
       "      <th></th>\n",
       "      <th></th>\n",
       "      <th></th>\n",
       "      <th></th>\n",
       "      <th></th>\n",
       "      <th></th>\n",
       "      <th></th>\n",
       "      <th></th>\n",
       "      <th></th>\n",
       "      <th></th>\n",
       "      <th></th>\n",
       "      <th></th>\n",
       "      <th></th>\n",
       "      <th></th>\n",
       "      <th></th>\n",
       "      <th></th>\n",
       "    </tr>\n",
       "  </thead>\n",
       "  <tbody>\n",
       "    <tr>\n",
       "      <th>1</th>\n",
       "      <td>3</td>\n",
       "      <td>1Fam</td>\n",
       "      <td>TA</td>\n",
       "      <td>No</td>\n",
       "      <td>706</td>\n",
       "      <td>0</td>\n",
       "      <td>GLQ</td>\n",
       "      <td>Unf</td>\n",
       "      <td>1</td>\n",
       "      <td>0</td>\n",
       "      <td>...</td>\n",
       "      <td>854</td>\n",
       "      <td>Pave</td>\n",
       "      <td>0</td>\n",
       "      <td>856</td>\n",
       "      <td>8</td>\n",
       "      <td>AllPub</td>\n",
       "      <td>0</td>\n",
       "      <td>2003</td>\n",
       "      <td>2003</td>\n",
       "      <td>2008</td>\n",
       "    </tr>\n",
       "    <tr>\n",
       "      <th>4</th>\n",
       "      <td>3</td>\n",
       "      <td>1Fam</td>\n",
       "      <td>Gd</td>\n",
       "      <td>No</td>\n",
       "      <td>216</td>\n",
       "      <td>0</td>\n",
       "      <td>ALQ</td>\n",
       "      <td>Unf</td>\n",
       "      <td>1</td>\n",
       "      <td>0</td>\n",
       "      <td>...</td>\n",
       "      <td>756</td>\n",
       "      <td>Pave</td>\n",
       "      <td>0</td>\n",
       "      <td>756</td>\n",
       "      <td>7</td>\n",
       "      <td>AllPub</td>\n",
       "      <td>0</td>\n",
       "      <td>1915</td>\n",
       "      <td>1970</td>\n",
       "      <td>2006</td>\n",
       "    </tr>\n",
       "    <tr>\n",
       "      <th>5</th>\n",
       "      <td>4</td>\n",
       "      <td>1Fam</td>\n",
       "      <td>TA</td>\n",
       "      <td>Av</td>\n",
       "      <td>655</td>\n",
       "      <td>0</td>\n",
       "      <td>GLQ</td>\n",
       "      <td>Unf</td>\n",
       "      <td>1</td>\n",
       "      <td>0</td>\n",
       "      <td>...</td>\n",
       "      <td>1053</td>\n",
       "      <td>Pave</td>\n",
       "      <td>0</td>\n",
       "      <td>1145</td>\n",
       "      <td>9</td>\n",
       "      <td>AllPub</td>\n",
       "      <td>192</td>\n",
       "      <td>2000</td>\n",
       "      <td>2000</td>\n",
       "      <td>2008</td>\n",
       "    </tr>\n",
       "    <tr>\n",
       "      <th>7</th>\n",
       "      <td>3</td>\n",
       "      <td>1Fam</td>\n",
       "      <td>TA</td>\n",
       "      <td>Av</td>\n",
       "      <td>1369</td>\n",
       "      <td>0</td>\n",
       "      <td>GLQ</td>\n",
       "      <td>Unf</td>\n",
       "      <td>1</td>\n",
       "      <td>0</td>\n",
       "      <td>...</td>\n",
       "      <td>0</td>\n",
       "      <td>Pave</td>\n",
       "      <td>0</td>\n",
       "      <td>1686</td>\n",
       "      <td>7</td>\n",
       "      <td>AllPub</td>\n",
       "      <td>255</td>\n",
       "      <td>2004</td>\n",
       "      <td>2005</td>\n",
       "      <td>2007</td>\n",
       "    </tr>\n",
       "    <tr>\n",
       "      <th>8</th>\n",
       "      <td>3</td>\n",
       "      <td>1Fam</td>\n",
       "      <td>TA</td>\n",
       "      <td>Mn</td>\n",
       "      <td>859</td>\n",
       "      <td>32</td>\n",
       "      <td>ALQ</td>\n",
       "      <td>BLQ</td>\n",
       "      <td>1</td>\n",
       "      <td>0</td>\n",
       "      <td>...</td>\n",
       "      <td>983</td>\n",
       "      <td>Pave</td>\n",
       "      <td>0</td>\n",
       "      <td>1107</td>\n",
       "      <td>7</td>\n",
       "      <td>AllPub</td>\n",
       "      <td>235</td>\n",
       "      <td>1973</td>\n",
       "      <td>1973</td>\n",
       "      <td>2009</td>\n",
       "    </tr>\n",
       "  </tbody>\n",
       "</table>\n",
       "<p>5 rows × 75 columns</p>\n",
       "</div>"
      ],
      "text/plain": [
       "    bedroomabvgr bldgtype bsmtcond bsmtexposure  bsmtfinsf1  bsmtfinsf2  \\\n",
       "id                                                                        \n",
       "1              3     1Fam       TA           No         706           0   \n",
       "4              3     1Fam       Gd           No         216           0   \n",
       "5              4     1Fam       TA           Av         655           0   \n",
       "7              3     1Fam       TA           Av        1369           0   \n",
       "8              3     1Fam       TA           Mn         859          32   \n",
       "\n",
       "   bsmtfintype1 bsmtfintype2  bsmtfullbath  bsmthalfbath  ...   secondflrsf  \\\n",
       "id                                                        ...                 \n",
       "1           GLQ          Unf             1             0  ...           854   \n",
       "4           ALQ          Unf             1             0  ...           756   \n",
       "5           GLQ          Unf             1             0  ...          1053   \n",
       "7           GLQ          Unf             1             0  ...             0   \n",
       "8           ALQ          BLQ             1             0  ...           983   \n",
       "\n",
       "    street threessnporch totalbsmtsf totrmsabvgrd utilities  wooddecksf  \\\n",
       "id                                                                        \n",
       "1     Pave             0         856            8    AllPub           0   \n",
       "4     Pave             0         756            7    AllPub           0   \n",
       "5     Pave             0        1145            9    AllPub         192   \n",
       "7     Pave             0        1686            7    AllPub         255   \n",
       "8     Pave             0        1107            7    AllPub         235   \n",
       "\n",
       "   yearbuilt yearremodadd yrsold  \n",
       "id                                \n",
       "1       2003         2003   2008  \n",
       "4       1915         1970   2006  \n",
       "5       2000         2000   2008  \n",
       "7       2004         2005   2007  \n",
       "8       1973         1973   2009  \n",
       "\n",
       "[5 rows x 75 columns]"
      ]
     },
     "execution_count": 8,
     "metadata": {},
     "output_type": "execute_result"
    }
   ],
   "source": [
    "for c in iowa_df:\n",
    "    if iowa_df[c].isnull().sum() > 500:\n",
    "        iowa_df.drop(c, axis=1, inplace=True)\n",
    "\n",
    "iowa_df.head()"
   ]
  },
  {
   "cell_type": "code",
   "execution_count": 9,
   "metadata": {
    "collapsed": false,
    "deletable": true,
    "editable": true
   },
   "outputs": [
    {
     "data": {
      "text/plain": [
       "False"
      ]
     },
     "execution_count": 9,
     "metadata": {},
     "output_type": "execute_result"
    }
   ],
   "source": [
    "any(iowa_df.isnull().sum() > 500)"
   ]
  },
  {
   "cell_type": "markdown",
   "metadata": {
    "deletable": true,
    "editable": true
   },
   "source": [
    "### How many columns of each data type are there?"
   ]
  },
  {
   "cell_type": "code",
   "execution_count": 10,
   "metadata": {
    "collapsed": false,
    "deletable": true,
    "editable": true
   },
   "outputs": [
    {
     "data": {
      "text/plain": [
       "object     38\n",
       "int64      34\n",
       "float64     3\n",
       "dtype: int64"
      ]
     },
     "execution_count": 10,
     "metadata": {},
     "output_type": "execute_result"
    }
   ],
   "source": [
    "iowa_df.dtypes.value_counts()"
   ]
  },
  {
   "cell_type": "markdown",
   "metadata": {
    "deletable": true,
    "editable": true
   },
   "source": [
    "### Create a Meta-Information DataFrame\n",
    "\n",
    "1. call it `feature_info_df`\n",
    "1. make an empty list called `feature_info`\n",
    "1. for each column make a dictionary:  \n",
    "   `{'feature':<column_name>,  \n",
    "    'n_unique': <number_of_unique_elements>,  \n",
    "    'datatype': <datatype_of_the_feature>}`\n",
    "1. append the dictionary to the list `feature_info`\n",
    "1. use the list of dictionaries to create a new dataframe"
   ]
  },
  {
   "cell_type": "code",
   "execution_count": 11,
   "metadata": {
    "collapsed": false,
    "deletable": true,
    "editable": true
   },
   "outputs": [],
   "source": [
    "def generate_meta_info_df(df):\n",
    "    feature_info = []\n",
    "    for col in df:\n",
    "        feature_dict = {\n",
    "            'feature': col,  \n",
    "            'n_unique': df[col].nunique(),  \n",
    "            'datatype': df[col].dtype\n",
    "        }\n",
    "        feature_info.append(feature_dict)\n",
    "\n",
    "    return pd.DataFrame(feature_info)"
   ]
  },
  {
   "cell_type": "code",
   "execution_count": 12,
   "metadata": {
    "collapsed": false,
    "deletable": true,
    "editable": true
   },
   "outputs": [
    {
     "data": {
      "text/html": [
       "<div>\n",
       "<table border=\"1\" class=\"dataframe\">\n",
       "  <thead>\n",
       "    <tr style=\"text-align: right;\">\n",
       "      <th></th>\n",
       "      <th>datatype</th>\n",
       "      <th>feature</th>\n",
       "      <th>n_unique</th>\n",
       "    </tr>\n",
       "  </thead>\n",
       "  <tbody>\n",
       "    <tr>\n",
       "      <th>0</th>\n",
       "      <td>int64</td>\n",
       "      <td>bedroomabvgr</td>\n",
       "      <td>7</td>\n",
       "    </tr>\n",
       "    <tr>\n",
       "      <th>1</th>\n",
       "      <td>object</td>\n",
       "      <td>bldgtype</td>\n",
       "      <td>5</td>\n",
       "    </tr>\n",
       "    <tr>\n",
       "      <th>2</th>\n",
       "      <td>object</td>\n",
       "      <td>bsmtcond</td>\n",
       "      <td>4</td>\n",
       "    </tr>\n",
       "    <tr>\n",
       "      <th>3</th>\n",
       "      <td>object</td>\n",
       "      <td>bsmtexposure</td>\n",
       "      <td>4</td>\n",
       "    </tr>\n",
       "    <tr>\n",
       "      <th>4</th>\n",
       "      <td>int64</td>\n",
       "      <td>bsmtfinsf1</td>\n",
       "      <td>525</td>\n",
       "    </tr>\n",
       "  </tbody>\n",
       "</table>\n",
       "</div>"
      ],
      "text/plain": [
       "  datatype       feature  n_unique\n",
       "0    int64  bedroomabvgr         7\n",
       "1   object      bldgtype         5\n",
       "2   object      bsmtcond         4\n",
       "3   object  bsmtexposure         4\n",
       "4    int64    bsmtfinsf1       525"
      ]
     },
     "execution_count": 12,
     "metadata": {},
     "output_type": "execute_result"
    }
   ],
   "source": [
    "feature_info_df = generate_meta_info_df(iowa_df)\n",
    "feature_info_df.head()"
   ]
  },
  {
   "cell_type": "markdown",
   "metadata": {
    "deletable": true,
    "editable": true
   },
   "source": [
    "### Display the meta information for all of the integers columns"
   ]
  },
  {
   "cell_type": "code",
   "execution_count": 13,
   "metadata": {
    "collapsed": false,
    "deletable": true,
    "editable": true
   },
   "outputs": [
    {
     "data": {
      "text/html": [
       "<div>\n",
       "<table border=\"1\" class=\"dataframe\">\n",
       "  <thead>\n",
       "    <tr style=\"text-align: right;\">\n",
       "      <th></th>\n",
       "      <th>datatype</th>\n",
       "      <th>feature</th>\n",
       "      <th>n_unique</th>\n",
       "    </tr>\n",
       "  </thead>\n",
       "  <tbody>\n",
       "    <tr>\n",
       "      <th>0</th>\n",
       "      <td>int64</td>\n",
       "      <td>bedroomabvgr</td>\n",
       "      <td>7</td>\n",
       "    </tr>\n",
       "    <tr>\n",
       "      <th>4</th>\n",
       "      <td>int64</td>\n",
       "      <td>bsmtfinsf1</td>\n",
       "      <td>525</td>\n",
       "    </tr>\n",
       "    <tr>\n",
       "      <th>5</th>\n",
       "      <td>int64</td>\n",
       "      <td>bsmtfinsf2</td>\n",
       "      <td>113</td>\n",
       "    </tr>\n",
       "    <tr>\n",
       "      <th>8</th>\n",
       "      <td>int64</td>\n",
       "      <td>bsmtfullbath</td>\n",
       "      <td>4</td>\n",
       "    </tr>\n",
       "    <tr>\n",
       "      <th>9</th>\n",
       "      <td>int64</td>\n",
       "      <td>bsmthalfbath</td>\n",
       "      <td>3</td>\n",
       "    </tr>\n",
       "    <tr>\n",
       "      <th>11</th>\n",
       "      <td>int64</td>\n",
       "      <td>bsmtunfsf</td>\n",
       "      <td>645</td>\n",
       "    </tr>\n",
       "    <tr>\n",
       "      <th>16</th>\n",
       "      <td>int64</td>\n",
       "      <td>enclosedporch</td>\n",
       "      <td>101</td>\n",
       "    </tr>\n",
       "    <tr>\n",
       "      <th>21</th>\n",
       "      <td>int64</td>\n",
       "      <td>fireplaces</td>\n",
       "      <td>4</td>\n",
       "    </tr>\n",
       "    <tr>\n",
       "      <th>22</th>\n",
       "      <td>int64</td>\n",
       "      <td>firstflrsf</td>\n",
       "      <td>655</td>\n",
       "    </tr>\n",
       "    <tr>\n",
       "      <th>24</th>\n",
       "      <td>int64</td>\n",
       "      <td>fullbath</td>\n",
       "      <td>4</td>\n",
       "    </tr>\n",
       "    <tr>\n",
       "      <th>26</th>\n",
       "      <td>int64</td>\n",
       "      <td>garagearea</td>\n",
       "      <td>390</td>\n",
       "    </tr>\n",
       "    <tr>\n",
       "      <th>27</th>\n",
       "      <td>int64</td>\n",
       "      <td>garagecars</td>\n",
       "      <td>5</td>\n",
       "    </tr>\n",
       "    <tr>\n",
       "      <th>33</th>\n",
       "      <td>int64</td>\n",
       "      <td>grlivarea</td>\n",
       "      <td>719</td>\n",
       "    </tr>\n",
       "    <tr>\n",
       "      <th>34</th>\n",
       "      <td>int64</td>\n",
       "      <td>halfbath</td>\n",
       "      <td>3</td>\n",
       "    </tr>\n",
       "    <tr>\n",
       "      <th>38</th>\n",
       "      <td>int64</td>\n",
       "      <td>kitchenabvgr</td>\n",
       "      <td>4</td>\n",
       "    </tr>\n",
       "    <tr>\n",
       "      <th>42</th>\n",
       "      <td>int64</td>\n",
       "      <td>lotarea</td>\n",
       "      <td>838</td>\n",
       "    </tr>\n",
       "    <tr>\n",
       "      <th>46</th>\n",
       "      <td>int64</td>\n",
       "      <td>lowqualfinsf</td>\n",
       "      <td>20</td>\n",
       "    </tr>\n",
       "    <tr>\n",
       "      <th>49</th>\n",
       "      <td>int64</td>\n",
       "      <td>miscval</td>\n",
       "      <td>17</td>\n",
       "    </tr>\n",
       "    <tr>\n",
       "      <th>50</th>\n",
       "      <td>int64</td>\n",
       "      <td>mosold</td>\n",
       "      <td>12</td>\n",
       "    </tr>\n",
       "    <tr>\n",
       "      <th>51</th>\n",
       "      <td>int64</td>\n",
       "      <td>mssubclass</td>\n",
       "      <td>15</td>\n",
       "    </tr>\n",
       "    <tr>\n",
       "      <th>54</th>\n",
       "      <td>int64</td>\n",
       "      <td>openporchsf</td>\n",
       "      <td>187</td>\n",
       "    </tr>\n",
       "    <tr>\n",
       "      <th>55</th>\n",
       "      <td>int64</td>\n",
       "      <td>overallcond</td>\n",
       "      <td>9</td>\n",
       "    </tr>\n",
       "    <tr>\n",
       "      <th>56</th>\n",
       "      <td>int64</td>\n",
       "      <td>overallqual</td>\n",
       "      <td>10</td>\n",
       "    </tr>\n",
       "    <tr>\n",
       "      <th>58</th>\n",
       "      <td>int64</td>\n",
       "      <td>poolarea</td>\n",
       "      <td>7</td>\n",
       "    </tr>\n",
       "    <tr>\n",
       "      <th>62</th>\n",
       "      <td>int64</td>\n",
       "      <td>saleprice</td>\n",
       "      <td>556</td>\n",
       "    </tr>\n",
       "    <tr>\n",
       "      <th>64</th>\n",
       "      <td>int64</td>\n",
       "      <td>screenporch</td>\n",
       "      <td>56</td>\n",
       "    </tr>\n",
       "    <tr>\n",
       "      <th>65</th>\n",
       "      <td>int64</td>\n",
       "      <td>secondflrsf</td>\n",
       "      <td>336</td>\n",
       "    </tr>\n",
       "    <tr>\n",
       "      <th>67</th>\n",
       "      <td>int64</td>\n",
       "      <td>threessnporch</td>\n",
       "      <td>17</td>\n",
       "    </tr>\n",
       "    <tr>\n",
       "      <th>68</th>\n",
       "      <td>int64</td>\n",
       "      <td>totalbsmtsf</td>\n",
       "      <td>613</td>\n",
       "    </tr>\n",
       "    <tr>\n",
       "      <th>69</th>\n",
       "      <td>int64</td>\n",
       "      <td>totrmsabvgrd</td>\n",
       "      <td>11</td>\n",
       "    </tr>\n",
       "    <tr>\n",
       "      <th>71</th>\n",
       "      <td>int64</td>\n",
       "      <td>wooddecksf</td>\n",
       "      <td>242</td>\n",
       "    </tr>\n",
       "    <tr>\n",
       "      <th>72</th>\n",
       "      <td>int64</td>\n",
       "      <td>yearbuilt</td>\n",
       "      <td>111</td>\n",
       "    </tr>\n",
       "    <tr>\n",
       "      <th>73</th>\n",
       "      <td>int64</td>\n",
       "      <td>yearremodadd</td>\n",
       "      <td>61</td>\n",
       "    </tr>\n",
       "    <tr>\n",
       "      <th>74</th>\n",
       "      <td>int64</td>\n",
       "      <td>yrsold</td>\n",
       "      <td>5</td>\n",
       "    </tr>\n",
       "  </tbody>\n",
       "</table>\n",
       "</div>"
      ],
      "text/plain": [
       "   datatype        feature  n_unique\n",
       "0     int64   bedroomabvgr         7\n",
       "4     int64     bsmtfinsf1       525\n",
       "5     int64     bsmtfinsf2       113\n",
       "8     int64   bsmtfullbath         4\n",
       "9     int64   bsmthalfbath         3\n",
       "11    int64      bsmtunfsf       645\n",
       "16    int64  enclosedporch       101\n",
       "21    int64     fireplaces         4\n",
       "22    int64     firstflrsf       655\n",
       "24    int64       fullbath         4\n",
       "26    int64     garagearea       390\n",
       "27    int64     garagecars         5\n",
       "33    int64      grlivarea       719\n",
       "34    int64       halfbath         3\n",
       "38    int64   kitchenabvgr         4\n",
       "42    int64        lotarea       838\n",
       "46    int64   lowqualfinsf        20\n",
       "49    int64        miscval        17\n",
       "50    int64         mosold        12\n",
       "51    int64     mssubclass        15\n",
       "54    int64    openporchsf       187\n",
       "55    int64    overallcond         9\n",
       "56    int64    overallqual        10\n",
       "58    int64       poolarea         7\n",
       "62    int64      saleprice       556\n",
       "64    int64    screenporch        56\n",
       "65    int64    secondflrsf       336\n",
       "67    int64  threessnporch        17\n",
       "68    int64    totalbsmtsf       613\n",
       "69    int64   totrmsabvgrd        11\n",
       "71    int64     wooddecksf       242\n",
       "72    int64      yearbuilt       111\n",
       "73    int64   yearremodadd        61\n",
       "74    int64         yrsold         5"
      ]
     },
     "execution_count": 13,
     "metadata": {},
     "output_type": "execute_result"
    }
   ],
   "source": [
    "feature_info_df[feature_info_df['datatype'] == 'int64']"
   ]
  },
  {
   "cell_type": "markdown",
   "metadata": {
    "deletable": true,
    "editable": true
   },
   "source": [
    "### Use the meta-info dataframe to find all the integer features with 15 or fewer unique values\n",
    "\n",
    "Make a list of these columns. We will change the type of these features to 'object' in our original dataframe."
   ]
  },
  {
   "cell_type": "code",
   "execution_count": 14,
   "metadata": {
    "collapsed": false,
    "deletable": true,
    "editable": true
   },
   "outputs": [],
   "source": [
    "int_features_15 = feature_info_df[(feature_info_df['datatype'] == 'int64') & (feature_info_df['n_unique'] <= 15)]"
   ]
  },
  {
   "cell_type": "code",
   "execution_count": 15,
   "metadata": {
    "collapsed": false,
    "deletable": true,
    "editable": true
   },
   "outputs": [
    {
     "data": {
      "text/html": [
       "<div>\n",
       "<table border=\"1\" class=\"dataframe\">\n",
       "  <thead>\n",
       "    <tr style=\"text-align: right;\">\n",
       "      <th></th>\n",
       "      <th>datatype</th>\n",
       "      <th>feature</th>\n",
       "      <th>n_unique</th>\n",
       "    </tr>\n",
       "  </thead>\n",
       "  <tbody>\n",
       "    <tr>\n",
       "      <th>0</th>\n",
       "      <td>int64</td>\n",
       "      <td>bedroomabvgr</td>\n",
       "      <td>7</td>\n",
       "    </tr>\n",
       "    <tr>\n",
       "      <th>8</th>\n",
       "      <td>int64</td>\n",
       "      <td>bsmtfullbath</td>\n",
       "      <td>4</td>\n",
       "    </tr>\n",
       "    <tr>\n",
       "      <th>9</th>\n",
       "      <td>int64</td>\n",
       "      <td>bsmthalfbath</td>\n",
       "      <td>3</td>\n",
       "    </tr>\n",
       "    <tr>\n",
       "      <th>21</th>\n",
       "      <td>int64</td>\n",
       "      <td>fireplaces</td>\n",
       "      <td>4</td>\n",
       "    </tr>\n",
       "    <tr>\n",
       "      <th>24</th>\n",
       "      <td>int64</td>\n",
       "      <td>fullbath</td>\n",
       "      <td>4</td>\n",
       "    </tr>\n",
       "    <tr>\n",
       "      <th>27</th>\n",
       "      <td>int64</td>\n",
       "      <td>garagecars</td>\n",
       "      <td>5</td>\n",
       "    </tr>\n",
       "    <tr>\n",
       "      <th>34</th>\n",
       "      <td>int64</td>\n",
       "      <td>halfbath</td>\n",
       "      <td>3</td>\n",
       "    </tr>\n",
       "    <tr>\n",
       "      <th>38</th>\n",
       "      <td>int64</td>\n",
       "      <td>kitchenabvgr</td>\n",
       "      <td>4</td>\n",
       "    </tr>\n",
       "    <tr>\n",
       "      <th>50</th>\n",
       "      <td>int64</td>\n",
       "      <td>mosold</td>\n",
       "      <td>12</td>\n",
       "    </tr>\n",
       "    <tr>\n",
       "      <th>51</th>\n",
       "      <td>int64</td>\n",
       "      <td>mssubclass</td>\n",
       "      <td>15</td>\n",
       "    </tr>\n",
       "    <tr>\n",
       "      <th>55</th>\n",
       "      <td>int64</td>\n",
       "      <td>overallcond</td>\n",
       "      <td>9</td>\n",
       "    </tr>\n",
       "    <tr>\n",
       "      <th>56</th>\n",
       "      <td>int64</td>\n",
       "      <td>overallqual</td>\n",
       "      <td>10</td>\n",
       "    </tr>\n",
       "    <tr>\n",
       "      <th>58</th>\n",
       "      <td>int64</td>\n",
       "      <td>poolarea</td>\n",
       "      <td>7</td>\n",
       "    </tr>\n",
       "    <tr>\n",
       "      <th>69</th>\n",
       "      <td>int64</td>\n",
       "      <td>totrmsabvgrd</td>\n",
       "      <td>11</td>\n",
       "    </tr>\n",
       "    <tr>\n",
       "      <th>74</th>\n",
       "      <td>int64</td>\n",
       "      <td>yrsold</td>\n",
       "      <td>5</td>\n",
       "    </tr>\n",
       "  </tbody>\n",
       "</table>\n",
       "</div>"
      ],
      "text/plain": [
       "   datatype       feature  n_unique\n",
       "0     int64  bedroomabvgr         7\n",
       "8     int64  bsmtfullbath         4\n",
       "9     int64  bsmthalfbath         3\n",
       "21    int64    fireplaces         4\n",
       "24    int64      fullbath         4\n",
       "27    int64    garagecars         5\n",
       "34    int64      halfbath         3\n",
       "38    int64  kitchenabvgr         4\n",
       "50    int64        mosold        12\n",
       "51    int64    mssubclass        15\n",
       "55    int64   overallcond         9\n",
       "56    int64   overallqual        10\n",
       "58    int64      poolarea         7\n",
       "69    int64  totrmsabvgrd        11\n",
       "74    int64        yrsold         5"
      ]
     },
     "execution_count": 15,
     "metadata": {},
     "output_type": "execute_result"
    }
   ],
   "source": [
    "int_features_15"
   ]
  },
  {
   "cell_type": "code",
   "execution_count": 16,
   "metadata": {
    "collapsed": false,
    "deletable": true,
    "editable": true
   },
   "outputs": [],
   "source": [
    "int_features_15_list = list(int_features_15['feature'])"
   ]
  },
  {
   "cell_type": "code",
   "execution_count": 17,
   "metadata": {
    "collapsed": false,
    "deletable": true,
    "editable": true
   },
   "outputs": [
    {
     "data": {
      "text/plain": [
       "['bedroomabvgr',\n",
       " 'bsmtfullbath',\n",
       " 'bsmthalfbath',\n",
       " 'fireplaces',\n",
       " 'fullbath',\n",
       " 'garagecars',\n",
       " 'halfbath',\n",
       " 'kitchenabvgr',\n",
       " 'mosold',\n",
       " 'mssubclass',\n",
       " 'overallcond',\n",
       " 'overallqual',\n",
       " 'poolarea',\n",
       " 'totrmsabvgrd',\n",
       " 'yrsold']"
      ]
     },
     "execution_count": 17,
     "metadata": {},
     "output_type": "execute_result"
    }
   ],
   "source": [
    "int_features_15_list"
   ]
  },
  {
   "cell_type": "markdown",
   "metadata": {
    "deletable": true,
    "editable": true
   },
   "source": [
    "### Change the type of these features in your original dataframe to be `object` \n",
    "We will be treating these as categorical variables.\n",
    "\n",
    "Change the datatype for each feature in your main dataframe."
   ]
  },
  {
   "cell_type": "code",
   "execution_count": 18,
   "metadata": {
    "collapsed": false,
    "deletable": true,
    "editable": true
   },
   "outputs": [],
   "source": [
    "iowa_df[int_features_15_list] = iowa_df[int_features_15_list].astype(object)"
   ]
  },
  {
   "cell_type": "code",
   "execution_count": 19,
   "metadata": {
    "collapsed": false,
    "deletable": true,
    "editable": true
   },
   "outputs": [
    {
     "data": {
      "text/plain": [
       "bedroomabvgr    object\n",
       "bsmtfullbath    object\n",
       "bsmthalfbath    object\n",
       "fireplaces      object\n",
       "fullbath        object\n",
       "garagecars      object\n",
       "halfbath        object\n",
       "kitchenabvgr    object\n",
       "mosold          object\n",
       "mssubclass      object\n",
       "overallcond     object\n",
       "overallqual     object\n",
       "poolarea        object\n",
       "totrmsabvgrd    object\n",
       "yrsold          object\n",
       "dtype: object"
      ]
     },
     "execution_count": 19,
     "metadata": {},
     "output_type": "execute_result"
    }
   ],
   "source": [
    "# check if data type is object\n",
    "iowa_df[int_features_15_list].dtypes"
   ]
  },
  {
   "cell_type": "code",
   "execution_count": 20,
   "metadata": {
    "collapsed": false,
    "deletable": true,
    "editable": true
   },
   "outputs": [
    {
     "data": {
      "text/plain": [
       "object     53\n",
       "int64      19\n",
       "float64     3\n",
       "dtype: int64"
      ]
     },
     "execution_count": 20,
     "metadata": {},
     "output_type": "execute_result"
    }
   ],
   "source": [
    "iowa_df.dtypes.value_counts()"
   ]
  },
  {
   "cell_type": "markdown",
   "metadata": {
    "deletable": true,
    "editable": true
   },
   "source": [
    "### Update your meta-info dataframe"
   ]
  },
  {
   "cell_type": "code",
   "execution_count": 21,
   "metadata": {
    "collapsed": false,
    "deletable": true,
    "editable": true
   },
   "outputs": [],
   "source": [
    "feature_info_df = generate_meta_info_df(iowa_df)"
   ]
  },
  {
   "cell_type": "code",
   "execution_count": 22,
   "metadata": {
    "collapsed": false,
    "deletable": true,
    "editable": true
   },
   "outputs": [
    {
     "data": {
      "text/html": [
       "<div>\n",
       "<table border=\"1\" class=\"dataframe\">\n",
       "  <thead>\n",
       "    <tr style=\"text-align: right;\">\n",
       "      <th></th>\n",
       "      <th>datatype</th>\n",
       "      <th>feature</th>\n",
       "      <th>n_unique</th>\n",
       "    </tr>\n",
       "  </thead>\n",
       "  <tbody>\n",
       "    <tr>\n",
       "      <th>0</th>\n",
       "      <td>object</td>\n",
       "      <td>bedroomabvgr</td>\n",
       "      <td>7</td>\n",
       "    </tr>\n",
       "    <tr>\n",
       "      <th>1</th>\n",
       "      <td>object</td>\n",
       "      <td>bldgtype</td>\n",
       "      <td>5</td>\n",
       "    </tr>\n",
       "    <tr>\n",
       "      <th>2</th>\n",
       "      <td>object</td>\n",
       "      <td>bsmtcond</td>\n",
       "      <td>4</td>\n",
       "    </tr>\n",
       "    <tr>\n",
       "      <th>3</th>\n",
       "      <td>object</td>\n",
       "      <td>bsmtexposure</td>\n",
       "      <td>4</td>\n",
       "    </tr>\n",
       "    <tr>\n",
       "      <th>4</th>\n",
       "      <td>int64</td>\n",
       "      <td>bsmtfinsf1</td>\n",
       "      <td>525</td>\n",
       "    </tr>\n",
       "  </tbody>\n",
       "</table>\n",
       "</div>"
      ],
      "text/plain": [
       "  datatype       feature  n_unique\n",
       "0   object  bedroomabvgr         7\n",
       "1   object      bldgtype         5\n",
       "2   object      bsmtcond         4\n",
       "3   object  bsmtexposure         4\n",
       "4    int64    bsmtfinsf1       525"
      ]
     },
     "execution_count": 22,
     "metadata": {},
     "output_type": "execute_result"
    }
   ],
   "source": [
    "feature_info_df.head()"
   ]
  },
  {
   "cell_type": "markdown",
   "metadata": {
    "deletable": true,
    "editable": true
   },
   "source": [
    "### How many columns of each data type are there? (rows?)"
   ]
  },
  {
   "cell_type": "code",
   "execution_count": 23,
   "metadata": {
    "collapsed": false,
    "deletable": true,
    "editable": true
   },
   "outputs": [
    {
     "data": {
      "text/html": [
       "<div>\n",
       "<table border=\"1\" class=\"dataframe\">\n",
       "  <thead>\n",
       "    <tr style=\"text-align: right;\">\n",
       "      <th></th>\n",
       "      <th>feature</th>\n",
       "      <th>n_unique</th>\n",
       "    </tr>\n",
       "    <tr>\n",
       "      <th>datatype</th>\n",
       "      <th></th>\n",
       "      <th></th>\n",
       "    </tr>\n",
       "  </thead>\n",
       "  <tbody>\n",
       "    <tr>\n",
       "      <th>int64</th>\n",
       "      <td>19</td>\n",
       "      <td>19</td>\n",
       "    </tr>\n",
       "    <tr>\n",
       "      <th>float64</th>\n",
       "      <td>3</td>\n",
       "      <td>3</td>\n",
       "    </tr>\n",
       "    <tr>\n",
       "      <th>object</th>\n",
       "      <td>53</td>\n",
       "      <td>53</td>\n",
       "    </tr>\n",
       "  </tbody>\n",
       "</table>\n",
       "</div>"
      ],
      "text/plain": [
       "          feature  n_unique\n",
       "datatype                   \n",
       "int64          19        19\n",
       "float64         3         3\n",
       "object         53        53"
      ]
     },
     "execution_count": 23,
     "metadata": {},
     "output_type": "execute_result"
    }
   ],
   "source": [
    "feature_info_df.groupby('datatype').count()"
   ]
  },
  {
   "cell_type": "code",
   "execution_count": 24,
   "metadata": {
    "collapsed": false,
    "deletable": true,
    "editable": true
   },
   "outputs": [
    {
     "data": {
      "text/plain": [
       "(75, 3)"
      ]
     },
     "execution_count": 24,
     "metadata": {},
     "output_type": "execute_result"
    }
   ],
   "source": [
    "feature_info_df.shape"
   ]
  },
  {
   "cell_type": "markdown",
   "metadata": {
    "deletable": true,
    "editable": true
   },
   "source": [
    "### Change the remaining integer columns to float columns"
   ]
  },
  {
   "cell_type": "code",
   "execution_count": 25,
   "metadata": {
    "collapsed": false,
    "deletable": true,
    "editable": true
   },
   "outputs": [],
   "source": [
    "# update original df\n",
    "for col in iowa_df.columns:\n",
    "    if iowa_df[col].dtype == np.int64:\n",
    "        iowa_df[col] = iowa_df[col].astype(np.float64)"
   ]
  },
  {
   "cell_type": "code",
   "execution_count": 26,
   "metadata": {
    "collapsed": false,
    "deletable": true,
    "editable": true
   },
   "outputs": [
    {
     "data": {
      "text/html": [
       "<div>\n",
       "<table border=\"1\" class=\"dataframe\">\n",
       "  <thead>\n",
       "    <tr style=\"text-align: right;\">\n",
       "      <th></th>\n",
       "      <th>feature</th>\n",
       "      <th>n_unique</th>\n",
       "    </tr>\n",
       "    <tr>\n",
       "      <th>datatype</th>\n",
       "      <th></th>\n",
       "      <th></th>\n",
       "    </tr>\n",
       "  </thead>\n",
       "  <tbody>\n",
       "    <tr>\n",
       "      <th>float64</th>\n",
       "      <td>22</td>\n",
       "      <td>22</td>\n",
       "    </tr>\n",
       "    <tr>\n",
       "      <th>object</th>\n",
       "      <td>53</td>\n",
       "      <td>53</td>\n",
       "    </tr>\n",
       "  </tbody>\n",
       "</table>\n",
       "</div>"
      ],
      "text/plain": [
       "          feature  n_unique\n",
       "datatype                   \n",
       "float64        22        22\n",
       "object         53        53"
      ]
     },
     "execution_count": 26,
     "metadata": {},
     "output_type": "execute_result"
    }
   ],
   "source": [
    "# regenerate meta df\n",
    "feature_info_df = generate_meta_info_df(iowa_df)\n",
    "feature_info_df.groupby('datatype').count()"
   ]
  },
  {
   "cell_type": "markdown",
   "metadata": {
    "deletable": true,
    "editable": true
   },
   "source": [
    "### How many columns of each data type are there?"
   ]
  },
  {
   "cell_type": "code",
   "execution_count": 27,
   "metadata": {
    "collapsed": false,
    "deletable": true,
    "editable": true
   },
   "outputs": [
    {
     "data": {
      "text/plain": [
       "object     53\n",
       "float64    22\n",
       "dtype: int64"
      ]
     },
     "execution_count": 27,
     "metadata": {},
     "output_type": "execute_result"
    }
   ],
   "source": [
    "iowa_df.dtypes.value_counts()"
   ]
  },
  {
   "cell_type": "markdown",
   "metadata": {
    "deletable": true,
    "editable": true
   },
   "source": [
    "### Create numerical and categorical dataframes\n",
    "\n",
    "Display the shapes of these dataframes."
   ]
  },
  {
   "cell_type": "code",
   "execution_count": 28,
   "metadata": {
    "collapsed": false,
    "deletable": true,
    "editable": true
   },
   "outputs": [
    {
     "data": {
      "text/plain": [
       "(1095, 22)"
      ]
     },
     "execution_count": 28,
     "metadata": {},
     "output_type": "execute_result"
    }
   ],
   "source": [
    "# should have 22 columns\n",
    "\n",
    "numerical_iowa_df = iowa_df.select_dtypes(include=[np.float64])\n",
    "\n",
    "numerical_iowa_df.shape"
   ]
  },
  {
   "cell_type": "code",
   "execution_count": 29,
   "metadata": {
    "collapsed": false,
    "deletable": true,
    "editable": true
   },
   "outputs": [
    {
     "data": {
      "text/plain": [
       "Index(['bsmtfinsf1', 'bsmtfinsf2', 'bsmtunfsf', 'enclosedporch', 'firstflrsf',\n",
       "       'garagearea', 'garageyrblt', 'grlivarea', 'lotarea', 'lotfrontage',\n",
       "       'lowqualfinsf', 'masvnrarea', 'miscval', 'openporchsf', 'saleprice',\n",
       "       'screenporch', 'secondflrsf', 'threessnporch', 'totalbsmtsf',\n",
       "       'wooddecksf', 'yearbuilt', 'yearremodadd'],\n",
       "      dtype='object')"
      ]
     },
     "execution_count": 29,
     "metadata": {},
     "output_type": "execute_result"
    }
   ],
   "source": [
    "numerical_iowa_df.columns"
   ]
  },
  {
   "cell_type": "code",
   "execution_count": 30,
   "metadata": {
    "collapsed": false,
    "deletable": true,
    "editable": true
   },
   "outputs": [
    {
     "data": {
      "text/plain": [
       "(1095, 53)"
      ]
     },
     "execution_count": 30,
     "metadata": {},
     "output_type": "execute_result"
    }
   ],
   "source": [
    "# should have 53 columns\n",
    "\n",
    "cat_iowa_df = iowa_df.select_dtypes(include=[object])\n",
    "\n",
    "cat_iowa_df.shape"
   ]
  },
  {
   "cell_type": "code",
   "execution_count": 31,
   "metadata": {
    "collapsed": false,
    "deletable": true,
    "editable": true
   },
   "outputs": [
    {
     "data": {
      "text/plain": [
       "Index(['bedroomabvgr', 'bldgtype', 'bsmtcond', 'bsmtexposure', 'bsmtfintype1',\n",
       "       'bsmtfintype2', 'bsmtfullbath', 'bsmthalfbath', 'bsmtqual',\n",
       "       'centralair', 'condition1', 'condition2', 'electrical', 'extercond',\n",
       "       'exterior1st', 'exterior2nd', 'exterqual', 'fireplaces', 'foundation',\n",
       "       'fullbath', 'functional', 'garagecars', 'garagecond', 'garagefinish',\n",
       "       'garagequal', 'garagetype', 'halfbath', 'heating', 'heatingqc',\n",
       "       'housestyle', 'kitchenabvgr', 'kitchenqual', 'landcontour', 'landslope',\n",
       "       'lotconfig', 'lotshape', 'masvnrtype', 'mosold', 'mssubclass',\n",
       "       'mszoning', 'neighborhood', 'overallcond', 'overallqual', 'paveddrive',\n",
       "       'poolarea', 'roofmatl', 'roofstyle', 'salecondition', 'saletype',\n",
       "       'street', 'totrmsabvgrd', 'utilities', 'yrsold'],\n",
       "      dtype='object')"
      ]
     },
     "execution_count": 31,
     "metadata": {},
     "output_type": "execute_result"
    }
   ],
   "source": [
    "cat_iowa_df.columns"
   ]
  },
  {
   "cell_type": "markdown",
   "metadata": {
    "deletable": true,
    "editable": true
   },
   "source": [
    "### Find the features with nans in the numerical dataframe"
   ]
  },
  {
   "cell_type": "code",
   "execution_count": 32,
   "metadata": {
    "collapsed": false,
    "deletable": true,
    "editable": true
   },
   "outputs": [
    {
     "data": {
      "text/plain": [
       "bsmtfinsf1         0\n",
       "bsmtfinsf2         0\n",
       "bsmtunfsf          0\n",
       "enclosedporch      0\n",
       "firstflrsf         0\n",
       "garagearea         0\n",
       "garageyrblt       63\n",
       "grlivarea          0\n",
       "lotarea            0\n",
       "lotfrontage      209\n",
       "lowqualfinsf       0\n",
       "masvnrarea         6\n",
       "miscval            0\n",
       "openporchsf        0\n",
       "saleprice          0\n",
       "screenporch        0\n",
       "secondflrsf        0\n",
       "threessnporch      0\n",
       "totalbsmtsf        0\n",
       "wooddecksf         0\n",
       "yearbuilt          0\n",
       "yearremodadd       0\n",
       "dtype: int64"
      ]
     },
     "execution_count": 32,
     "metadata": {},
     "output_type": "execute_result"
    }
   ],
   "source": [
    "numerical_iowa_df.isnull().sum()"
   ]
  },
  {
   "cell_type": "markdown",
   "metadata": {
    "deletable": true,
    "editable": true
   },
   "source": [
    "### Replace the null rows for these features with either the mean or the median"
   ]
  },
  {
   "cell_type": "code",
   "execution_count": 33,
   "metadata": {
    "collapsed": false,
    "deletable": true,
    "editable": true
   },
   "outputs": [
    {
     "name": "stderr",
     "output_type": "stream",
     "text": [
      "/opt/conda/lib/python3.5/site-packages/ipykernel/__main__.py:1: SettingWithCopyWarning: \n",
      "A value is trying to be set on a copy of a slice from a DataFrame.\n",
      "Try using .loc[row_indexer,col_indexer] = value instead\n",
      "\n",
      "See the caveats in the documentation: http://pandas.pydata.org/pandas-docs/stable/indexing.html#indexing-view-versus-copy\n",
      "  if __name__ == '__main__':\n"
     ]
    }
   ],
   "source": [
    "numerical_iowa_df['garageyrblt'] = numerical_iowa_df['garageyrblt'].fillna(numerical_iowa_df['garageyrblt'].median())"
   ]
  },
  {
   "cell_type": "code",
   "execution_count": 34,
   "metadata": {
    "collapsed": false,
    "deletable": true,
    "editable": true
   },
   "outputs": [
    {
     "name": "stderr",
     "output_type": "stream",
     "text": [
      "/opt/conda/lib/python3.5/site-packages/ipykernel/__main__.py:1: SettingWithCopyWarning: \n",
      "A value is trying to be set on a copy of a slice from a DataFrame.\n",
      "Try using .loc[row_indexer,col_indexer] = value instead\n",
      "\n",
      "See the caveats in the documentation: http://pandas.pydata.org/pandas-docs/stable/indexing.html#indexing-view-versus-copy\n",
      "  if __name__ == '__main__':\n"
     ]
    }
   ],
   "source": [
    "numerical_iowa_df['lotfrontage'] = numerical_iowa_df['lotfrontage'].fillna(numerical_iowa_df['lotfrontage'].mean())"
   ]
  },
  {
   "cell_type": "code",
   "execution_count": 35,
   "metadata": {
    "collapsed": false,
    "deletable": true,
    "editable": true
   },
   "outputs": [
    {
     "name": "stderr",
     "output_type": "stream",
     "text": [
      "/opt/conda/lib/python3.5/site-packages/ipykernel/__main__.py:1: SettingWithCopyWarning: \n",
      "A value is trying to be set on a copy of a slice from a DataFrame.\n",
      "Try using .loc[row_indexer,col_indexer] = value instead\n",
      "\n",
      "See the caveats in the documentation: http://pandas.pydata.org/pandas-docs/stable/indexing.html#indexing-view-versus-copy\n",
      "  if __name__ == '__main__':\n"
     ]
    }
   ],
   "source": [
    "numerical_iowa_df['masvnrarea'] = numerical_iowa_df['masvnrarea'].fillna(numerical_iowa_df['masvnrarea'].mean())"
   ]
  },
  {
   "cell_type": "code",
   "execution_count": 36,
   "metadata": {
    "collapsed": false,
    "deletable": true,
    "editable": true
   },
   "outputs": [
    {
     "data": {
      "text/plain": [
       "bsmtfinsf1       0\n",
       "bsmtfinsf2       0\n",
       "bsmtunfsf        0\n",
       "enclosedporch    0\n",
       "firstflrsf       0\n",
       "garagearea       0\n",
       "garageyrblt      0\n",
       "grlivarea        0\n",
       "lotarea          0\n",
       "lotfrontage      0\n",
       "lowqualfinsf     0\n",
       "masvnrarea       0\n",
       "miscval          0\n",
       "openporchsf      0\n",
       "saleprice        0\n",
       "screenporch      0\n",
       "secondflrsf      0\n",
       "threessnporch    0\n",
       "totalbsmtsf      0\n",
       "wooddecksf       0\n",
       "yearbuilt        0\n",
       "yearremodadd     0\n",
       "dtype: int64"
      ]
     },
     "execution_count": 36,
     "metadata": {},
     "output_type": "execute_result"
    }
   ],
   "source": [
    "numerical_iowa_df.isnull().sum()"
   ]
  },
  {
   "cell_type": "markdown",
   "metadata": {
    "deletable": true,
    "editable": true
   },
   "source": [
    "### Use subplots to display distribution plots of all numerical features\n",
    "Include the mean, median, and mode."
   ]
  },
  {
   "cell_type": "code",
   "execution_count": 37,
   "metadata": {
    "collapsed": false,
    "deletable": true,
    "editable": true
   },
   "outputs": [
    {
     "name": "stderr",
     "output_type": "stream",
     "text": [
      "/opt/conda/lib/python3.5/site-packages/matplotlib/font_manager.py:1297: UserWarning: findfont: Font family ['sans-serif'] not found. Falling back to DejaVu Sans\n",
      "  (prop.get_family(), self.defaultFamily[fontext]))\n"
     ]
    },
    {
     "data": {
      "image/png": "[encoded data removed]",
      "text/plain": [
       "<matplotlib.figure.Figure at 0x7f1f59e4f748>"
      ]
     },
     "metadata": {},
     "output_type": "display_data"
    }
   ],
   "source": [
    "fig = plt.figure(figsize=(20,20))\n",
    "for i, col in enumerate(numerical_iowa_df.columns):\n",
    "    fig.add_subplot(8,3,1+i)\n",
    "    sns.distplot(numerical_iowa_df[col], label=col)\n",
    "    plt.axvline(numerical_iowa_df[col].mean(), c='red')\n",
    "    plt.axvline(numerical_iowa_df[col].mode()[0], c='green')\n",
    "    plt.axvline(numerical_iowa_df[col].median(), c='black')\n",
    "    plt.legend()"
   ]
  },
  {
   "cell_type": "markdown",
   "metadata": {
    "deletable": true,
    "editable": true
   },
   "source": [
    "### Use `df.skew` to find the skew of the numerical features"
   ]
  },
  {
   "cell_type": "code",
   "execution_count": 38,
   "metadata": {
    "collapsed": true,
    "deletable": true,
    "editable": true
   },
   "outputs": [],
   "source": [
    "from scipy.stats import skew, skewtest"
   ]
  },
  {
   "cell_type": "code",
   "execution_count": 39,
   "metadata": {
    "collapsed": false,
    "deletable": true,
    "editable": true
   },
   "outputs": [
    {
     "data": {
      "text/plain": [
       "bsmtfinsf1        1.8964\n",
       "bsmtfinsf2        4.1004\n",
       "bsmtunfsf         0.9128\n",
       "enclosedporch     3.2333\n",
       "firstflrsf        1.4248\n",
       "garagearea        0.0945\n",
       "garageyrblt      -0.7378\n",
       "grlivarea         1.2980\n",
       "lotarea          12.3591\n",
       "lotfrontage       2.0179\n",
       "lowqualfinsf      8.6023\n",
       "masvnrarea        2.2357\n",
       "miscval          19.7893\n",
       "openporchsf       2.0044\n",
       "saleprice         1.6597\n",
       "screenporch       4.0437\n",
       "secondflrsf       0.8075\n",
       "threessnporch     9.6688\n",
       "totalbsmtsf       1.8476\n",
       "wooddecksf        1.5800\n",
       "yearbuilt        -0.6640\n",
       "yearremodadd     -0.5498\n",
       "dtype: float64"
      ]
     },
     "execution_count": 39,
     "metadata": {},
     "output_type": "execute_result"
    }
   ],
   "source": [
    "numerical_iowa_df.skew()"
   ]
  },
  {
   "cell_type": "markdown",
   "metadata": {
    "deletable": true,
    "editable": true
   },
   "source": [
    "### Make a list of all features for which the absolute value of the skew is > 0.75\n",
    "\n",
    "These will need to be deskewed."
   ]
  },
  {
   "cell_type": "code",
   "execution_count": 40,
   "metadata": {
    "collapsed": false,
    "deletable": true,
    "editable": true
   },
   "outputs": [
    {
     "data": {
      "text/plain": [
       "['bsmtfinsf1',\n",
       " 'bsmtfinsf2',\n",
       " 'bsmtunfsf',\n",
       " 'enclosedporch',\n",
       " 'firstflrsf',\n",
       " 'grlivarea',\n",
       " 'lotarea',\n",
       " 'lotfrontage',\n",
       " 'lowqualfinsf',\n",
       " 'masvnrarea',\n",
       " 'miscval',\n",
       " 'openporchsf',\n",
       " 'saleprice',\n",
       " 'screenporch',\n",
       " 'secondflrsf',\n",
       " 'threessnporch',\n",
       " 'totalbsmtsf',\n",
       " 'wooddecksf']"
      ]
     },
     "execution_count": 40,
     "metadata": {},
     "output_type": "execute_result"
    }
   ],
   "source": [
    "skewed_feats = list(numerical_iowa_df.columns[numerical_iowa_df.skew() > abs(0.75)])\n",
    "\n",
    "skewed_feats"
   ]
  },
  {
   "cell_type": "markdown",
   "metadata": {
    "deletable": true,
    "editable": true
   },
   "source": [
    "### Find the skew for each of these features if we apply a simple log\n",
    "\n",
    "Either `np.log(feature)` or `np.log(1+feature)`."
   ]
  },
  {
   "cell_type": "code",
   "execution_count": 41,
   "metadata": {
    "collapsed": false,
    "deletable": true,
    "editable": true
   },
   "outputs": [
    {
     "data": {
      "text/plain": [
       "bsmtfinsf1      -0.6300\n",
       "bsmtfinsf2       2.4830\n",
       "bsmtunfsf       -2.2288\n",
       "enclosedporch    2.1794\n",
       "firstflrsf       0.0197\n",
       "grlivarea       -0.0780\n",
       "lotarea         -0.1257\n",
       "lotfrontage     -0.9365\n",
       "lowqualfinsf     7.0175\n",
       "masvnrarea       0.4939\n",
       "miscval          5.3044\n",
       "openporchsf     -0.1111\n",
       "saleprice        0.1683\n",
       "screenporch      3.2927\n",
       "secondflrsf      0.3094\n",
       "threessnporch    7.1437\n",
       "totalbsmtsf     -5.3889\n",
       "wooddecksf       0.0880\n",
       "dtype: float64"
      ]
     },
     "execution_count": 41,
     "metadata": {},
     "output_type": "execute_result"
    }
   ],
   "source": [
    "np.log(1+numerical_iowa_df[skewed_feats]).skew()\n",
    "# doesn't matter what alpha we use, some remain skewed - what to do about these?"
   ]
  },
  {
   "cell_type": "markdown",
   "metadata": {
    "deletable": true,
    "editable": true
   },
   "source": [
    "### (Optional) Find the optimal skew for each feature"
   ]
  },
  {
   "cell_type": "code",
   "execution_count": null,
   "metadata": {
    "collapsed": false,
    "deletable": true,
    "editable": true
   },
   "outputs": [],
   "source": []
  },
  {
   "cell_type": "markdown",
   "metadata": {
    "deletable": true,
    "editable": true
   },
   "source": [
    "### Use either a simple log or an optimal log to deskew the selected numerical features"
   ]
  },
  {
   "cell_type": "code",
   "execution_count": 42,
   "metadata": {
    "collapsed": true,
    "deletable": true,
    "editable": true
   },
   "outputs": [],
   "source": [
    "numerical_iowa_deskewed = np.log(1+numerical_iowa_df[skewed_feats])"
   ]
  },
  {
   "cell_type": "markdown",
   "metadata": {
    "deletable": true,
    "editable": true
   },
   "source": [
    "### Use subplots to display distribution plots of all numerical features\n",
    "Include the mean, median, and mode.\n",
    "\n",
    "How do your distributions compare to the previous plots?"
   ]
  },
  {
   "cell_type": "code",
   "execution_count": 43,
   "metadata": {
    "collapsed": true,
    "deletable": true,
    "editable": true
   },
   "outputs": [],
   "source": [
    "# bivariate distributions become more spaced out around the mean; \n",
    "# univariate variables also look more normally distributed\n",
    "# some are still very skewed"
   ]
  },
  {
   "cell_type": "code",
   "execution_count": 44,
   "metadata": {
    "collapsed": false,
    "deletable": true,
    "editable": true
   },
   "outputs": [
    {
     "name": "stderr",
     "output_type": "stream",
     "text": [
      "/opt/conda/lib/python3.5/site-packages/matplotlib/font_manager.py:1297: UserWarning: findfont: Font family ['sans-serif'] not found. Falling back to DejaVu Sans\n",
      "  (prop.get_family(), self.defaultFamily[fontext]))\n"
     ]
    },
    {
     "data": {
      "image/png": "[encoded data removed]",
      "text/plain": [
       "<matplotlib.figure.Figure at 0x7f1f56361748>"
      ]
     },
     "metadata": {},
     "output_type": "display_data"
    }
   ],
   "source": [
    "fig = plt.figure(figsize=(20,20))\n",
    "for i, col in enumerate(numerical_iowa_deskewed.columns):\n",
    "    fig.add_subplot(8,3,1+i)\n",
    "    sns.distplot(numerical_iowa_deskewed[col], label=col)\n",
    "    plt.axvline(numerical_iowa_deskewed[col].mean(), c='red')\n",
    "    plt.axvline(numerical_iowa_deskewed[col].mode()[0], c='green')\n",
    "    plt.axvline(numerical_iowa_deskewed[col].median(), c='black')\n",
    "    plt.legend()"
   ]
  },
  {
   "cell_type": "markdown",
   "metadata": {
    "deletable": true,
    "editable": true
   },
   "source": [
    "### Find the features with nans in the categorical dataframe"
   ]
  },
  {
   "cell_type": "code",
   "execution_count": 45,
   "metadata": {
    "collapsed": false,
    "deletable": true,
    "editable": true
   },
   "outputs": [
    {
     "data": {
      "text/plain": [
       "bedroomabvgr      0\n",
       "bldgtype          0\n",
       "bsmtcond         25\n",
       "bsmtexposure     26\n",
       "bsmtfintype1     25\n",
       "bsmtfintype2     26\n",
       "bsmtfullbath      0\n",
       "bsmthalfbath      0\n",
       "bsmtqual         25\n",
       "centralair        0\n",
       "condition1        0\n",
       "condition2        0\n",
       "electrical        1\n",
       "extercond         0\n",
       "exterior1st       0\n",
       "exterior2nd       0\n",
       "exterqual         0\n",
       "fireplaces        0\n",
       "foundation        0\n",
       "fullbath          0\n",
       "functional        0\n",
       "garagecars        0\n",
       "garagecond       63\n",
       "garagefinish     63\n",
       "garagequal       63\n",
       "garagetype       63\n",
       "halfbath          0\n",
       "heating           0\n",
       "heatingqc         0\n",
       "housestyle        0\n",
       "kitchenabvgr      0\n",
       "kitchenqual       0\n",
       "landcontour       0\n",
       "landslope         0\n",
       "lotconfig         0\n",
       "lotshape          0\n",
       "masvnrtype        6\n",
       "mosold            0\n",
       "mssubclass        0\n",
       "mszoning          0\n",
       "neighborhood      0\n",
       "overallcond       0\n",
       "overallqual       0\n",
       "paveddrive        0\n",
       "poolarea          0\n",
       "roofmatl          0\n",
       "roofstyle         0\n",
       "salecondition     0\n",
       "saletype          0\n",
       "street            0\n",
       "totrmsabvgrd      0\n",
       "utilities         0\n",
       "yrsold            0\n",
       "dtype: int64"
      ]
     },
     "execution_count": 45,
     "metadata": {},
     "output_type": "execute_result"
    }
   ],
   "source": [
    "cat_iowa_df.isnull().sum()"
   ]
  },
  {
   "cell_type": "markdown",
   "metadata": {
    "deletable": true,
    "editable": true
   },
   "source": [
    "### How many columns of each data type are there?"
   ]
  },
  {
   "cell_type": "code",
   "execution_count": 46,
   "metadata": {
    "collapsed": false,
    "deletable": true,
    "editable": true
   },
   "outputs": [
    {
     "data": {
      "text/plain": [
       "object    53\n",
       "dtype: int64"
      ]
     },
     "execution_count": 46,
     "metadata": {},
     "output_type": "execute_result"
    }
   ],
   "source": [
    "cat_iowa_df.dtypes.value_counts()"
   ]
  },
  {
   "cell_type": "code",
   "execution_count": 47,
   "metadata": {
    "collapsed": false,
    "deletable": true,
    "editable": true
   },
   "outputs": [
    {
     "data": {
      "text/plain": [
       "(1095, 53)"
      ]
     },
     "execution_count": 47,
     "metadata": {},
     "output_type": "execute_result"
    }
   ],
   "source": [
    "cat_iowa_df.shape"
   ]
  },
  {
   "cell_type": "markdown",
   "metadata": {
    "deletable": true,
    "editable": true
   },
   "source": [
    "### Replace the null rows for these features with the mode"
   ]
  },
  {
   "cell_type": "code",
   "execution_count": 48,
   "metadata": {
    "collapsed": false,
    "deletable": true,
    "editable": true
   },
   "outputs": [
    {
     "name": "stderr",
     "output_type": "stream",
     "text": [
      "/opt/conda/lib/python3.5/site-packages/ipykernel/__main__.py:2: SettingWithCopyWarning: \n",
      "A value is trying to be set on a copy of a slice from a DataFrame.\n",
      "Try using .loc[row_indexer,col_indexer] = value instead\n",
      "\n",
      "See the caveats in the documentation: http://pandas.pydata.org/pandas-docs/stable/indexing.html#indexing-view-versus-copy\n",
      "  from ipykernel import kernelapp as app\n"
     ]
    },
    {
     "data": {
      "text/plain": [
       "bedroomabvgr     0\n",
       "bldgtype         0\n",
       "bsmtcond         0\n",
       "bsmtexposure     0\n",
       "bsmtfintype1     0\n",
       "bsmtfintype2     0\n",
       "bsmtfullbath     0\n",
       "bsmthalfbath     0\n",
       "bsmtqual         0\n",
       "centralair       0\n",
       "condition1       0\n",
       "condition2       0\n",
       "electrical       0\n",
       "extercond        0\n",
       "exterior1st      0\n",
       "exterior2nd      0\n",
       "exterqual        0\n",
       "fireplaces       0\n",
       "foundation       0\n",
       "fullbath         0\n",
       "functional       0\n",
       "garagecars       0\n",
       "garagecond       0\n",
       "garagefinish     0\n",
       "garagequal       0\n",
       "garagetype       0\n",
       "halfbath         0\n",
       "heating          0\n",
       "heatingqc        0\n",
       "housestyle       0\n",
       "kitchenabvgr     0\n",
       "kitchenqual      0\n",
       "landcontour      0\n",
       "landslope        0\n",
       "lotconfig        0\n",
       "lotshape         0\n",
       "masvnrtype       0\n",
       "mosold           0\n",
       "mssubclass       0\n",
       "mszoning         0\n",
       "neighborhood     0\n",
       "overallcond      0\n",
       "overallqual      0\n",
       "paveddrive       0\n",
       "poolarea         0\n",
       "roofmatl         0\n",
       "roofstyle        0\n",
       "salecondition    0\n",
       "saletype         0\n",
       "street           0\n",
       "totrmsabvgrd     0\n",
       "utilities        0\n",
       "yrsold           0\n",
       "dtype: int64"
      ]
     },
     "execution_count": 48,
     "metadata": {},
     "output_type": "execute_result"
    }
   ],
   "source": [
    "for col in cat_iowa_df:\n",
    "    cat_iowa_df[col] = cat_iowa_df[col].fillna(cat_iowa_df[col].mode()[0])\n",
    "cat_iowa_df.isnull().sum()"
   ]
  },
  {
   "cell_type": "markdown",
   "metadata": {
    "deletable": true,
    "editable": true
   },
   "source": [
    "### How many columns of each data type are there?"
   ]
  },
  {
   "cell_type": "code",
   "execution_count": 49,
   "metadata": {
    "collapsed": false,
    "deletable": true,
    "editable": true
   },
   "outputs": [
    {
     "data": {
      "text/plain": [
       "object    38\n",
       "int64     15\n",
       "dtype: int64"
      ]
     },
     "execution_count": 49,
     "metadata": {},
     "output_type": "execute_result"
    }
   ],
   "source": [
    "cat_iowa_df.dtypes.value_counts()"
   ]
  },
  {
   "cell_type": "markdown",
   "metadata": {
    "deletable": true,
    "editable": true
   },
   "source": [
    "### Cast the whole categorical dataframe as an object"
   ]
  },
  {
   "cell_type": "code",
   "execution_count": 50,
   "metadata": {
    "collapsed": false,
    "deletable": true,
    "editable": true
   },
   "outputs": [],
   "source": [
    "cat_iowa_df = cat_iowa_df.astype(object)"
   ]
  },
  {
   "cell_type": "code",
   "execution_count": 51,
   "metadata": {
    "collapsed": false,
    "deletable": true,
    "editable": true
   },
   "outputs": [
    {
     "data": {
      "text/plain": [
       "object    53\n",
       "dtype: int64"
      ]
     },
     "execution_count": 51,
     "metadata": {},
     "output_type": "execute_result"
    }
   ],
   "source": [
    "cat_iowa_df.dtypes.value_counts()"
   ]
  },
  {
   "cell_type": "markdown",
   "metadata": {
    "deletable": true,
    "editable": true
   },
   "source": [
    "### Get Dummy Variable Columns for all categorical columns"
   ]
  },
  {
   "cell_type": "code",
   "execution_count": 52,
   "metadata": {
    "collapsed": false,
    "deletable": true,
    "editable": true
   },
   "outputs": [],
   "source": [
    "cat_iowa_dummies = pd.get_dummies(cat_iowa_df)"
   ]
  },
  {
   "cell_type": "markdown",
   "metadata": {
    "deletable": true,
    "editable": true
   },
   "source": [
    "### What is the shape of the new categorical dataframe?"
   ]
  },
  {
   "cell_type": "code",
   "execution_count": 53,
   "metadata": {
    "collapsed": false,
    "deletable": true,
    "editable": true
   },
   "outputs": [
    {
     "data": {
      "text/plain": [
       "(1095, 333)"
      ]
     },
     "execution_count": 53,
     "metadata": {},
     "output_type": "execute_result"
    }
   ],
   "source": [
    "cat_iowa_dummies.shape"
   ]
  },
  {
   "cell_type": "markdown",
   "metadata": {
    "deletable": true,
    "editable": true
   },
   "source": [
    "### Merge the processed numerical and categorical dataframes"
   ]
  },
  {
   "cell_type": "code",
   "execution_count": 54,
   "metadata": {
    "collapsed": true,
    "deletable": true,
    "editable": true
   },
   "outputs": [],
   "source": [
    "iowa_df_merged = pd.merge(cat_iowa_dummies, numerical_iowa_deskewed, left_index=True, right_index=True)"
   ]
  },
  {
   "cell_type": "code",
   "execution_count": 55,
   "metadata": {
    "collapsed": false,
    "deletable": true,
    "editable": true
   },
   "outputs": [
    {
     "data": {
      "text/plain": [
       "Index(['bedroomabvgr_0', 'bedroomabvgr_1', 'bedroomabvgr_2', 'bedroomabvgr_3',\n",
       "       'bedroomabvgr_4', 'bedroomabvgr_5', 'bedroomabvgr_6', 'bldgtype_1Fam',\n",
       "       'bldgtype_2fmCon', 'bldgtype_Duplex',\n",
       "       ...\n",
       "       'lowqualfinsf', 'masvnrarea', 'miscval', 'openporchsf', 'saleprice',\n",
       "       'screenporch', 'secondflrsf', 'threessnporch', 'totalbsmtsf',\n",
       "       'wooddecksf'],\n",
       "      dtype='object', length=351)"
      ]
     },
     "execution_count": 55,
     "metadata": {},
     "output_type": "execute_result"
    }
   ],
   "source": [
    "iowa_df_merged.columns"
   ]
  },
  {
   "cell_type": "markdown",
   "metadata": {
    "deletable": true,
    "editable": true
   },
   "source": [
    "### Assign `saleprice` to target and the remaining columns to `features`"
   ]
  },
  {
   "cell_type": "code",
   "execution_count": 56,
   "metadata": {
    "collapsed": false,
    "deletable": true,
    "editable": true
   },
   "outputs": [],
   "source": [
    "target = iowa_df_merged['saleprice']\n",
    "features = iowa_df_merged.drop('saleprice', axis=1)"
   ]
  },
  {
   "cell_type": "code",
   "execution_count": 57,
   "metadata": {
    "collapsed": false,
    "deletable": true,
    "editable": true
   },
   "outputs": [
    {
     "data": {
      "text/plain": [
       "id\n",
       "1    12.2477\n",
       "4    11.8494\n",
       "5    12.4292\n",
       "7    12.6346\n",
       "8    12.2061\n",
       "Name: saleprice, dtype: float64"
      ]
     },
     "execution_count": 57,
     "metadata": {},
     "output_type": "execute_result"
    }
   ],
   "source": [
    "target.head()"
   ]
  },
  {
   "cell_type": "code",
   "execution_count": 58,
   "metadata": {
    "collapsed": false,
    "deletable": true,
    "editable": true
   },
   "outputs": [
    {
     "data": {
      "text/html": [
       "<div>\n",
       "<table border=\"1\" class=\"dataframe\">\n",
       "  <thead>\n",
       "    <tr style=\"text-align: right;\">\n",
       "      <th></th>\n",
       "      <th>bedroomabvgr_0</th>\n",
       "      <th>bedroomabvgr_1</th>\n",
       "      <th>bedroomabvgr_2</th>\n",
       "      <th>bedroomabvgr_3</th>\n",
       "      <th>bedroomabvgr_4</th>\n",
       "      <th>bedroomabvgr_5</th>\n",
       "      <th>bedroomabvgr_6</th>\n",
       "      <th>bldgtype_1Fam</th>\n",
       "      <th>bldgtype_2fmCon</th>\n",
       "      <th>bldgtype_Duplex</th>\n",
       "      <th>...</th>\n",
       "      <th>lotfrontage</th>\n",
       "      <th>lowqualfinsf</th>\n",
       "      <th>masvnrarea</th>\n",
       "      <th>miscval</th>\n",
       "      <th>openporchsf</th>\n",
       "      <th>screenporch</th>\n",
       "      <th>secondflrsf</th>\n",
       "      <th>threessnporch</th>\n",
       "      <th>totalbsmtsf</th>\n",
       "      <th>wooddecksf</th>\n",
       "    </tr>\n",
       "    <tr>\n",
       "      <th>id</th>\n",
       "      <th></th>\n",
       "      <th></th>\n",
       "      <th></th>\n",
       "      <th></th>\n",
       "      <th></th>\n",
       "      <th></th>\n",
       "      <th></th>\n",
       "      <th></th>\n",
       "      <th></th>\n",
       "      <th></th>\n",
       "      <th></th>\n",
       "      <th></th>\n",
       "      <th></th>\n",
       "      <th></th>\n",
       "      <th></th>\n",
       "      <th></th>\n",
       "      <th></th>\n",
       "      <th></th>\n",
       "      <th></th>\n",
       "      <th></th>\n",
       "      <th></th>\n",
       "    </tr>\n",
       "  </thead>\n",
       "  <tbody>\n",
       "    <tr>\n",
       "      <th>1</th>\n",
       "      <td>0</td>\n",
       "      <td>0</td>\n",
       "      <td>0</td>\n",
       "      <td>1</td>\n",
       "      <td>0</td>\n",
       "      <td>0</td>\n",
       "      <td>0</td>\n",
       "      <td>1</td>\n",
       "      <td>0</td>\n",
       "      <td>0</td>\n",
       "      <td>...</td>\n",
       "      <td>4.1897</td>\n",
       "      <td>0.0</td>\n",
       "      <td>5.2832</td>\n",
       "      <td>0.0000</td>\n",
       "      <td>4.1271</td>\n",
       "      <td>0.0</td>\n",
       "      <td>6.7511</td>\n",
       "      <td>0.0</td>\n",
       "      <td>6.7534</td>\n",
       "      <td>0.0000</td>\n",
       "    </tr>\n",
       "    <tr>\n",
       "      <th>4</th>\n",
       "      <td>0</td>\n",
       "      <td>0</td>\n",
       "      <td>0</td>\n",
       "      <td>1</td>\n",
       "      <td>0</td>\n",
       "      <td>0</td>\n",
       "      <td>0</td>\n",
       "      <td>1</td>\n",
       "      <td>0</td>\n",
       "      <td>0</td>\n",
       "      <td>...</td>\n",
       "      <td>4.1109</td>\n",
       "      <td>0.0</td>\n",
       "      <td>0.0000</td>\n",
       "      <td>0.0000</td>\n",
       "      <td>3.5835</td>\n",
       "      <td>0.0</td>\n",
       "      <td>6.6294</td>\n",
       "      <td>0.0</td>\n",
       "      <td>6.6294</td>\n",
       "      <td>0.0000</td>\n",
       "    </tr>\n",
       "    <tr>\n",
       "      <th>5</th>\n",
       "      <td>0</td>\n",
       "      <td>0</td>\n",
       "      <td>0</td>\n",
       "      <td>0</td>\n",
       "      <td>1</td>\n",
       "      <td>0</td>\n",
       "      <td>0</td>\n",
       "      <td>1</td>\n",
       "      <td>0</td>\n",
       "      <td>0</td>\n",
       "      <td>...</td>\n",
       "      <td>4.4427</td>\n",
       "      <td>0.0</td>\n",
       "      <td>5.8608</td>\n",
       "      <td>0.0000</td>\n",
       "      <td>4.4427</td>\n",
       "      <td>0.0</td>\n",
       "      <td>6.9603</td>\n",
       "      <td>0.0</td>\n",
       "      <td>7.0440</td>\n",
       "      <td>5.2627</td>\n",
       "    </tr>\n",
       "    <tr>\n",
       "      <th>7</th>\n",
       "      <td>0</td>\n",
       "      <td>0</td>\n",
       "      <td>0</td>\n",
       "      <td>1</td>\n",
       "      <td>0</td>\n",
       "      <td>0</td>\n",
       "      <td>0</td>\n",
       "      <td>1</td>\n",
       "      <td>0</td>\n",
       "      <td>0</td>\n",
       "      <td>...</td>\n",
       "      <td>4.3307</td>\n",
       "      <td>0.0</td>\n",
       "      <td>5.2311</td>\n",
       "      <td>0.0000</td>\n",
       "      <td>4.0604</td>\n",
       "      <td>0.0</td>\n",
       "      <td>0.0000</td>\n",
       "      <td>0.0</td>\n",
       "      <td>7.4307</td>\n",
       "      <td>5.5452</td>\n",
       "    </tr>\n",
       "    <tr>\n",
       "      <th>8</th>\n",
       "      <td>0</td>\n",
       "      <td>0</td>\n",
       "      <td>0</td>\n",
       "      <td>1</td>\n",
       "      <td>0</td>\n",
       "      <td>0</td>\n",
       "      <td>0</td>\n",
       "      <td>1</td>\n",
       "      <td>0</td>\n",
       "      <td>0</td>\n",
       "      <td>...</td>\n",
       "      <td>4.2678</td>\n",
       "      <td>0.0</td>\n",
       "      <td>5.4848</td>\n",
       "      <td>5.8608</td>\n",
       "      <td>5.3230</td>\n",
       "      <td>0.0</td>\n",
       "      <td>6.8916</td>\n",
       "      <td>0.0</td>\n",
       "      <td>7.0103</td>\n",
       "      <td>5.4638</td>\n",
       "    </tr>\n",
       "  </tbody>\n",
       "</table>\n",
       "<p>5 rows × 350 columns</p>\n",
       "</div>"
      ],
      "text/plain": [
       "    bedroomabvgr_0  bedroomabvgr_1  bedroomabvgr_2  bedroomabvgr_3  \\\n",
       "id                                                                   \n",
       "1                0               0               0               1   \n",
       "4                0               0               0               1   \n",
       "5                0               0               0               0   \n",
       "7                0               0               0               1   \n",
       "8                0               0               0               1   \n",
       "\n",
       "    bedroomabvgr_4  bedroomabvgr_5  bedroomabvgr_6  bldgtype_1Fam  \\\n",
       "id                                                                  \n",
       "1                0               0               0              1   \n",
       "4                0               0               0              1   \n",
       "5                1               0               0              1   \n",
       "7                0               0               0              1   \n",
       "8                0               0               0              1   \n",
       "\n",
       "    bldgtype_2fmCon  bldgtype_Duplex     ...      lotfrontage  lowqualfinsf  \\\n",
       "id                                       ...                                  \n",
       "1                 0                0     ...           4.1897           0.0   \n",
       "4                 0                0     ...           4.1109           0.0   \n",
       "5                 0                0     ...           4.4427           0.0   \n",
       "7                 0                0     ...           4.3307           0.0   \n",
       "8                 0                0     ...           4.2678           0.0   \n",
       "\n",
       "    masvnrarea  miscval  openporchsf  screenporch  secondflrsf  threessnporch  \\\n",
       "id                                                                              \n",
       "1       5.2832   0.0000       4.1271          0.0       6.7511            0.0   \n",
       "4       0.0000   0.0000       3.5835          0.0       6.6294            0.0   \n",
       "5       5.8608   0.0000       4.4427          0.0       6.9603            0.0   \n",
       "7       5.2311   0.0000       4.0604          0.0       0.0000            0.0   \n",
       "8       5.4848   5.8608       5.3230          0.0       6.8916            0.0   \n",
       "\n",
       "    totalbsmtsf  wooddecksf  \n",
       "id                           \n",
       "1        6.7534      0.0000  \n",
       "4        6.6294      0.0000  \n",
       "5        7.0440      5.2627  \n",
       "7        7.4307      5.5452  \n",
       "8        7.0103      5.4638  \n",
       "\n",
       "[5 rows x 350 columns]"
      ]
     },
     "execution_count": 58,
     "metadata": {},
     "output_type": "execute_result"
    }
   ],
   "source": [
    "features.head()"
   ]
  },
  {
   "cell_type": "markdown",
   "metadata": {
    "collapsed": true,
    "deletable": true,
    "editable": true
   },
   "source": [
    "### pickle features and target dataframes"
   ]
  },
  {
   "cell_type": "code",
   "execution_count": 59,
   "metadata": {
    "collapsed": false,
    "deletable": true,
    "editable": true
   },
   "outputs": [],
   "source": [
    "# turns it into a binary\n",
    "features.to_pickle('features.pickle')\n",
    "target.to_pickle('target.pickle')"
   ]
  }
 ],
 "metadata": {
  "kernelspec": {
   "display_name": "Python 3",
   "language": "python",
   "name": "python3"
  },
  "language_info": {
   "codemirror_mode": {
    "name": "ipython",
    "version": 3
   },
   "file_extension": ".py",
   "mimetype": "text/x-python",
   "name": "python",
   "nbconvert_exporter": "python",
   "pygments_lexer": "ipython3",
   "version": "3.5.2"
  }
 },
 "nbformat": 4,
 "nbformat_minor": 2
}
